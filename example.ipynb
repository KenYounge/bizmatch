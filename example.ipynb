{
 "cells": [
  {
   "cell_type": "markdown",
   "metadata": {
    "pycharm": {
     "name": "#%% md\n"
    }
   },
   "source": [
    "Here are some examples to show how bizy works.\n"
   ]
  },
  {
   "cell_type": "code",
   "execution_count": 1,
   "metadata": {
    "pycharm": {
     "is_executing": false,
     "metadata": false,
     "name": "#%%\n"
    }
   },
   "outputs": [],
   "source": [
    "import match\n",
    "import compare"
   ]
  },
  {
   "cell_type": "code",
   "execution_count": 2,
   "metadata": {
    "pycharm": {
     "is_executing": false,
     "metadata": false,
     "name": "#%%\n"
    }
   },
   "outputs": [
    {
     "name": "stdout",
     "output_type": "stream",
     "text": [
      "\u001b[94m\u001b[4mMatch business names from _edgar_biznames.csv to _sdc_biznames.csv              \u001b[0m\n",
      "\u001b[94mLoading rename list...\u001b[0m\n",
      "\u001b[94mLoading _edgar_biznames.csv ...\u001b[0m\n",
      "\u001b[94mLoading _sdc_biznames.csv ...\u001b[0m\n",
      "Progress: |██████████████████████████████████████████████████| 100.0% Complete\n"
     ]
    }
   ],
   "source": [
    "# Compare a focal and an alter list of firm names\n",
    "\n",
    "fname_focal = '_edgar_biznames.csv'\n",
    "fname_alter = '_sdc_biznames.csv'\n",
    "\n",
    "match.match_lists(fname_focal, fname_alter)\n",
    "\n",
    "# view result in '~matched.000'"
   ]
  },
  {
   "cell_type": "code",
   "execution_count": 3,
   "metadata": {
    "pycharm": {
     "is_executing": false,
     "metadata": false,
     "name": "#%%\n"
    }
   },
   "outputs": [
    {
     "data": {
      "text/plain": [
       "True"
      ]
     },
     "execution_count": 3,
     "metadata": {},
     "output_type": "execute_result"
    }
   ],
   "source": [
    "# Are two firm names referring to the same firm?\n",
    "\n",
    "focal = 'Facebook, Inc.'\n",
    "alter = 'Facebook'\n",
    "\n",
    "result = compare.compare_biznames(focal, alter)\n",
    "result"
   ]
  }
 ],
 "metadata": {
  "kernelspec": {
   "display_name": "Python 3",
   "language": "python",
   "name": "python3"
  },
  "language_info": {
   "codemirror_mode": {
    "name": "ipython",
    "version": 3
   },
   "file_extension": ".py",
   "mimetype": "text/x-python",
   "name": "python",
   "nbconvert_exporter": "python",
   "pygments_lexer": "ipython3",
   "version": "3.6.8"
  }
 },
 "nbformat": 4,
 "nbformat_minor": 2
}
